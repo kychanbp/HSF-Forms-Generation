{
 "cells": [
  {
   "cell_type": "markdown",
   "metadata": {},
   "source": [
    "## Before you start, please check premeable.tex and sig1.pdf located at the same directory as the program"
   ]
  },
  {
   "cell_type": "code",
   "execution_count": 1,
   "metadata": {
    "collapsed": true
   },
   "outputs": [],
   "source": [
    "import sys\n",
    "import re\n",
    "import subprocess\n",
    "import os\n",
    "import pandas as pd\n",
    "import time"
   ]
  },
  {
   "cell_type": "markdown",
   "metadata": {},
   "source": [
    "## Modify the template location below"
   ]
  },
  {
   "cell_type": "code",
   "execution_count": 2,
   "metadata": {
    "collapsed": true
   },
   "outputs": [],
   "source": [
    "templateA = open('C:/Users/ustjo/Desktop/MM/HSF/HSF-Forms-Generation/template/form-a.tex', 'r').read()"
   ]
  },
  {
   "cell_type": "code",
   "execution_count": 3,
   "metadata": {},
   "outputs": [
    {
     "data": {
      "text/plain": [
       "\"\\\\documentclass[11pt]{book}\\n\\n\\\\input{preamble.tex}\\n\\n\\\\begin{document}\\n\\n\\nForm A\\n\\n\\\\section{Expansion of Hong Kong International Airport into a Three-Runway System}\\n\\nMarine Travel Routes and Management Plan for High Speed Ferries of SkyPier\\n\\n\\\\subsection{\\\\ul{Environmental Audit Checking Record}}\\n\\n{\\\\renewcommand{\\\\arraystretch}{1.4}\\n\\\\begin{table}[htb]\\n\\\\fontsize{11pt}{15pt}\\\\selectfont\\n\\\\begin{tabular}{|>{\\\\raggedright}p{39mm}|\\np{98mm}<{\\\\raggedright}|}\\\\hline\\n%%\\nReference Plan: & Marine Travel Routes and Management Plan for High Speed Ferries of SkyPier (EP Condition 2.10)\\n\\\\\\\\[0.5mm] \\\\hline\\nMonitoring Data: & Ferry movement data collected in the period between\\n\\\\newline\\n\\\\ul{%(Period)s}\\n\\\\\\\\[1.0mm] \\\\hline\\nInformation and Data Checked: &\\n\\\\begin{minipage}[t]{110mm}\\n\\\\begin{itemize}\\n\\\\item Automatic Identification System (AIS) Data\\n\\\\item Daily SkyPier HSF movements\\n\\\\item Record of potential deviations\\n\\\\item Response provided by the ferry operators\\n\\\\end{itemize}\\n\\\\end{minipage}\\n\\\\\\\\[0.1mm]\\\\hline\\nComments and Observations: &\\nThe deviation of implementation of SkyPier HSF plan was checked. %(No.of Cases)s  issued by AAHK to ferry operators related to potential speeding across the SCZ, not travelling through the gate access points and insufficient AIS data. The audit results from %(Period)s will be included in the\\n%(No. of EM&A Report)s\\\\textsuperscript{%(Subscript)s} Monthly EM\\\\&A Report.\\n \\\\\\\\ \\\\hline\\n\\\\end{tabular}\\n\\\\end{table}\\n}\\n\\n\\n{\\\\fontsize{10pt}{12pt}\\\\selectfont\\n\\\\begin{tabular}{:L{23mm}:L{35mm}:L{35mm}:L{35mm}:}\\n\\\\hdashline\\n\\\\Gape[14pt]{}& \\\\makecell[l]{ET Leader /\\\\\\\\[2mm]\\nET's Representative} &\\n\\\\makecell[l]{IEC/ \\\\\\\\[2mm]\\nIEC's Representative} &\\n\\\\makecell[l]{PM /\\\\\\\\[2mm]\\nPM's Representative} \\\\\\\\ \\\\hline\\nSignature &\\\\includegraphics[scale=1.0]{sig1.pdf}\\n&  &  \\\\\\\\ \\\\hdashline\\nName & Terence Kong &  &\\n\\\\Gape[10pt]{}\\n\\\\\\\\\\\\hdashline\\n\\\\end{tabular}\\n}\\n\\n\\\\end{document}\\n\""
      ]
     },
     "execution_count": 3,
     "metadata": {},
     "output_type": "execute_result"
    }
   ],
   "source": [
    "templateA"
   ]
  },
  {
   "cell_type": "markdown",
   "metadata": {},
   "source": [
    "## Modify the Excel Data location below"
   ]
  },
  {
   "cell_type": "code",
   "execution_count": 4,
   "metadata": {},
   "outputs": [
    {
     "data": {
      "text/plain": [
       "['Instruction', 'Form A', 'Form B', 'Comments Template for Form B']"
      ]
     },
     "execution_count": 4,
     "metadata": {},
     "output_type": "execute_result"
    }
   ],
   "source": [
    "xls = pd.ExcelFile('C:/Users/ustjo/Desktop/MM/HSF/HSF-Forms-Generation/Forms Generation.xlsx')\n",
    "xls.sheet_names"
   ]
  },
  {
   "cell_type": "code",
   "execution_count": 5,
   "metadata": {
    "collapsed": true
   },
   "outputs": [],
   "source": [
    "#acces the sheet\n",
    "formA = xls.parse('Form A')"
   ]
  },
  {
   "cell_type": "code",
   "execution_count": 6,
   "metadata": {},
   "outputs": [
    {
     "data": {
      "text/html": [
       "<div>\n",
       "<style>\n",
       "    .dataframe thead tr:only-child th {\n",
       "        text-align: right;\n",
       "    }\n",
       "\n",
       "    .dataframe thead th {\n",
       "        text-align: left;\n",
       "    }\n",
       "\n",
       "    .dataframe tbody tr th {\n",
       "        vertical-align: top;\n",
       "    }\n",
       "</style>\n",
       "<table border=\"1\" class=\"dataframe\">\n",
       "  <thead>\n",
       "    <tr style=\"text-align: right;\">\n",
       "      <th></th>\n",
       "      <th>File Name</th>\n",
       "      <th>Period</th>\n",
       "      <th>No. of Cases</th>\n",
       "      <th>No. of EM&amp;A Report</th>\n",
       "      <th>Subscript</th>\n",
       "    </tr>\n",
       "  </thead>\n",
       "  <tbody>\n",
       "    <tr>\n",
       "      <th>0</th>\n",
       "      <td>Form A 20171003 to 20171004</td>\n",
       "      <td>3 October 2017 to 4 October 2017</td>\n",
       "      <td>1 notice was</td>\n",
       "      <td>2</td>\n",
       "      <td>nd</td>\n",
       "    </tr>\n",
       "    <tr>\n",
       "      <th>1</th>\n",
       "      <td>Form A 20171004 to 20171006</td>\n",
       "      <td>4 October 2017 to 6 October 2017</td>\n",
       "      <td>2 notices werr</td>\n",
       "      <td>3</td>\n",
       "      <td>rd</td>\n",
       "    </tr>\n",
       "  </tbody>\n",
       "</table>\n",
       "</div>"
      ],
      "text/plain": [
       "                     File Name                            Period  \\\n",
       "0  Form A 20171003 to 20171004  3 October 2017 to 4 October 2017   \n",
       "1  Form A 20171004 to 20171006  4 October 2017 to 6 October 2017   \n",
       "\n",
       "     No. of Cases  No. of EM&A Report Subscript  \n",
       "0    1 notice was                   2        nd  \n",
       "1  2 notices werr                   3        rd  "
      ]
     },
     "execution_count": 6,
     "metadata": {},
     "output_type": "execute_result"
    }
   ],
   "source": [
    "formA"
   ]
  },
  {
   "cell_type": "code",
   "execution_count": 7,
   "metadata": {
    "collapsed": true
   },
   "outputs": [],
   "source": [
    "for i in range(len(formA)):\n",
    "    page = templateA%{'Period':formA.iloc[i,1],'No.of Cases':formA.iloc[i,2], 'No. of EM&A Report':formA.iloc[i,3], 'Subscript':formA.iloc[i,4]}\n",
    "    \n",
    "    file_name_tex = str(formA.iloc[i,0]) + '.tex'\n",
    "    file_name_log = str(formA.iloc[i,0]) + '.log'\n",
    "    file_name_aux = str(formA.iloc[i,0]) + '.aux'\n",
    "    #create a new file\n",
    "    file = open(file_name_tex, 'w')\n",
    "    #write to file\n",
    "    file.write(page)\n",
    "    file.close()\n",
    "    \n",
    "    #create the document\n",
    "    cmd = ['pdflatex', '-interaction', 'nonstopmode', file_name_tex]\n",
    "    proc = subprocess.Popen(cmd)\n",
    "    time.sleep(3)\n",
    "    os.unlink(file_name_log)\n",
    "    os.unlink(file_name_aux)"
   ]
  }
 ],
 "metadata": {
  "kernelspec": {
   "display_name": "Python 3",
   "language": "python",
   "name": "python3"
  },
  "language_info": {
   "codemirror_mode": {
    "name": "ipython",
    "version": 3
   },
   "file_extension": ".py",
   "mimetype": "text/x-python",
   "name": "python",
   "nbconvert_exporter": "python",
   "pygments_lexer": "ipython3",
   "version": "3.6.3"
  }
 },
 "nbformat": 4,
 "nbformat_minor": 2
}
