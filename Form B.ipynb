{
 "cells": [
  {
   "cell_type": "markdown",
   "metadata": {},
   "source": [
    "## Before you start, please check premeable.tex and sig1.pdf located at the same directory as the program"
   ]
  },
  {
   "cell_type": "code",
   "execution_count": 1,
   "metadata": {
    "collapsed": true
   },
   "outputs": [],
   "source": [
    "import sys\n",
    "import re\n",
    "import subprocess\n",
    "import os\n",
    "import pandas as pd\n",
    "import time"
   ]
  },
  {
   "cell_type": "code",
   "execution_count": 2,
   "metadata": {
    "collapsed": true
   },
   "outputs": [],
   "source": [
    "templateB = open('C:/Users/ustjo/Desktop/MM/HSF/HSF-Forms-Generation/template/form-b.tex', 'r').read()"
   ]
  },
  {
   "cell_type": "code",
   "execution_count": 3,
   "metadata": {
    "scrolled": false
   },
   "outputs": [
    {
     "data": {
      "text/plain": [
       "\"\\\\documentclass[11pt]{book}\\n\\n\\\\input{preamble.tex}\\n\\n\\\\begin{document}\\n\\n\\nForm B\\n\\n\\\\section{Expansion of Hong Kong International Airport into a Three-Runway System}\\n\\nMarine Travel Routes and Management Plan for High Speed Ferries of SkyPier\\n\\n\\\\subsection{\\\\ul{Case Audit and Checking Record}}\\n\\n{\\\\renewcommand{\\\\arraystretch}{1.4}\\n\\\\begin{table}[htb]\\n\\\\fontsize{11pt}{15pt}\\\\selectfont\\n\\\\begin{tabular}{|>{\\\\raggedright}p{38mm}|\\np{99mm}<{\\\\raggedright}|}\\\\hline\\n%%%\\nReference Plan: & Marine Travel Routes and Management Plan for High Speed Ferries of SkyPier (The Plan) (EP Condition 2.10)\\n\\\\\\\\ \\\\hline\\nMonitoring Data: & Ferry movement data collected in the period between\\n\\\\newline\\n\\\\ul{%(Period)s}\\n\\\\\\\\[1.0mm]\\\\hline\\nInformation and Data Checked: &\\n\\\\begin{minipage}[t]{110mm}\\n\\\\begin{itemize}\\n\\\\item Automatic Identification System (AIS)\\n\\\\item Data Daily SkyPier HSF movements\\n  \\\\item Record of potential deviations\\n\\\\item Response provided by the ferry operators\\n\\\\end{itemize}\\\\vspace*{-1.5ex}\\n\\\\end{minipage}\\n\\\\\\\\\\\\hline\\nCase No: & \\\\textit{%(Case No)s}\\n\\\\\\\\ \\\\hline\\nDate: & \\\\textit{%(Date)s}\\n\\\\\\\\ \\\\hline\\nFerry Details: & Ferry Number: %(Ferry No)s\\n\\\\newline Average Speed: %(Avg Speed)s knots\\\\newline Range of Instantaneous Speed: %(Min Speed)s -- %(Max Speed)s knots\\\\newline Duration of Instantaneous Speeding: %(Duration)s\\n\\\\\\\\ \\\\hline\\nComments and Observations \\\\newline From ET: & %(Comments)s \\\\\\\\ \\\\hline\\nComments and Observations\\\\newline From IEC Marine Advisor: &\\n\\\\\\\\ \\\\hline\\nReason(s) valid\\\\\\\\ according to \\\\\\\\ The Plan? &\\n\\\\begin{minipage}[t]{95mm}\\n\\\\begin{itemize}\\n\\\\item Yes (case closed)\\n\\\\item[\\\\nocheck] No (The ET to confirm with AA MCDD on the required follow up actions)\\n\\\\end{itemize}\\\\vspace*{-1.5ex}\\n\\\\end{minipage}\\n\\\\\\\\\\\\hline\\n\\\\end{tabular}\\n\\\\end{table}\\n}\\n\\n\\n{\\\\fontsize{10pt}{12pt}\\\\selectfont\\n\\\\begin{tabular}{:L{23mm}:L{35mm}:L{35mm}:L{35mm}:}\\n\\\\hdashline\\n\\\\Gape[14pt]{}& \\\\makecell[l]{ET Leader /\\\\\\\\[2mm]\\nET's Representative} &\\n\\\\makecell[l]{IEC/ \\\\\\\\[2mm]\\nIEC's Representative} &\\n\\\\makecell[l]{PM /\\\\\\\\[2mm]\\nPM's Representative} \\\\\\\\ \\\\hline\\nSignature &\\\\includegraphics[scale=1.0]{sig1.pdf}\\n&  &  \\\\\\\\ \\\\hdashline\\nName & Terence Kong &  &\\n\\\\Gape[10pt]{}\\n\\\\\\\\\\\\hdashline\\n\\\\end{tabular}\\n}\\n\\n\\n\\\\end{document}\\n\""
      ]
     },
     "execution_count": 3,
     "metadata": {},
     "output_type": "execute_result"
    }
   ],
   "source": [
    "templateB"
   ]
  },
  {
   "cell_type": "markdown",
   "metadata": {},
   "source": [
    "## Modify the Excel Data location below"
   ]
  },
  {
   "cell_type": "code",
   "execution_count": 4,
   "metadata": {},
   "outputs": [
    {
     "data": {
      "text/plain": [
       "['Instruction', 'Form A', 'Form B', 'Comments Template for Form B']"
      ]
     },
     "execution_count": 4,
     "metadata": {},
     "output_type": "execute_result"
    }
   ],
   "source": [
    "xls = pd.ExcelFile('C:/Users/ustjo/Desktop/MM/HSF/HSF-Forms-Generation/Forms Generation.xlsx')\n",
    "xls.sheet_names"
   ]
  },
  {
   "cell_type": "code",
   "execution_count": 5,
   "metadata": {
    "collapsed": true
   },
   "outputs": [],
   "source": [
    "#acces the sheet\n",
    "formB = xls.parse('Form B')"
   ]
  },
  {
   "cell_type": "code",
   "execution_count": 6,
   "metadata": {},
   "outputs": [
    {
     "data": {
      "text/html": [
       "<div>\n",
       "<style>\n",
       "    .dataframe thead tr:only-child th {\n",
       "        text-align: right;\n",
       "    }\n",
       "\n",
       "    .dataframe thead th {\n",
       "        text-align: left;\n",
       "    }\n",
       "\n",
       "    .dataframe tbody tr th {\n",
       "        vertical-align: top;\n",
       "    }\n",
       "</style>\n",
       "<table border=\"1\" class=\"dataframe\">\n",
       "  <thead>\n",
       "    <tr style=\"text-align: right;\">\n",
       "      <th></th>\n",
       "      <th>File Name</th>\n",
       "      <th>Case No.</th>\n",
       "      <th>Date</th>\n",
       "      <th>Ferry No.</th>\n",
       "      <th>Average Speed within SCZ (knots)</th>\n",
       "      <th>Min Speed within SCZ (knots)</th>\n",
       "      <th>Max Speed within SCZ (knots)</th>\n",
       "      <th>Duration of Instaneous Speed (min)</th>\n",
       "      <th>Period</th>\n",
       "      <th>Comments and Observations from ET</th>\n",
       "    </tr>\n",
       "  </thead>\n",
       "  <tbody>\n",
       "    <tr>\n",
       "      <th>0</th>\n",
       "      <td>Form B 20171002</td>\n",
       "      <td>SPNC-873</td>\n",
       "      <td>2 October 2017</td>\n",
       "      <td>3A166</td>\n",
       "      <td>10.0</td>\n",
       "      <td>11</td>\n",
       "      <td>12</td>\n",
       "      <td>--</td>\n",
       "      <td>2 October 2017 to 3 October 2017</td>\n",
       "      <td>NaN</td>\n",
       "    </tr>\n",
       "    <tr>\n",
       "      <th>1</th>\n",
       "      <td>Form B 20171004 Insufficient AIS</td>\n",
       "      <td>SPNC-874</td>\n",
       "      <td>4 October 2017</td>\n",
       "      <td>3A167</td>\n",
       "      <td>13.5</td>\n",
       "      <td>13</td>\n",
       "      <td>14</td>\n",
       "      <td>2</td>\n",
       "      <td>4 October 2017 to 5 October 2017</td>\n",
       "      <td>NaN</td>\n",
       "    </tr>\n",
       "  </tbody>\n",
       "</table>\n",
       "</div>"
      ],
      "text/plain": [
       "                          File Name  Case No.            Date Ferry No.  \\\n",
       "0                   Form B 20171002  SPNC-873  2 October 2017     3A166   \n",
       "1  Form B 20171004 Insufficient AIS  SPNC-874  4 October 2017     3A167   \n",
       "\n",
       "   Average Speed within SCZ (knots)  Min Speed within SCZ (knots)  \\\n",
       "0                              10.0                            11   \n",
       "1                              13.5                            13   \n",
       "\n",
       "   Max Speed within SCZ (knots) Duration of Instaneous Speed (min)  \\\n",
       "0                            12                                 --   \n",
       "1                            14                                  2   \n",
       "\n",
       "                             Period  Comments and Observations from ET  \n",
       "0  2 October 2017 to 3 October 2017                                NaN  \n",
       "1  4 October 2017 to 5 October 2017                                NaN  "
      ]
     },
     "execution_count": 6,
     "metadata": {},
     "output_type": "execute_result"
    }
   ],
   "source": [
    "formB"
   ]
  },
  {
   "cell_type": "code",
   "execution_count": 7,
   "metadata": {},
   "outputs": [
    {
     "ename": "ValueError",
     "evalue": "unsupported format character '?' (0xa) at index 448",
     "output_type": "error",
     "traceback": [
      "\u001b[1;31m---------------------------------------------------------------------------\u001b[0m",
      "\u001b[1;31mValueError\u001b[0m                                Traceback (most recent call last)",
      "\u001b[1;32m<ipython-input-7-afe0b30f82bd>\u001b[0m in \u001b[0;36m<module>\u001b[1;34m()\u001b[0m\n\u001b[0;32m      2\u001b[0m     page = templateB%{'Period':formB.iloc[i,8],'Case No':formB.iloc[i,1], 'Date':formB.iloc[i,2], \n\u001b[0;32m      3\u001b[0m                       \u001b[1;34m'Ferry No'\u001b[0m\u001b[1;33m:\u001b[0m\u001b[0mformB\u001b[0m\u001b[1;33m.\u001b[0m\u001b[0miloc\u001b[0m\u001b[1;33m[\u001b[0m\u001b[0mi\u001b[0m\u001b[1;33m,\u001b[0m\u001b[1;36m3\u001b[0m\u001b[1;33m]\u001b[0m\u001b[1;33m,\u001b[0m \u001b[1;34m'Avg Speed'\u001b[0m\u001b[1;33m:\u001b[0m\u001b[0mformB\u001b[0m\u001b[1;33m.\u001b[0m\u001b[0miloc\u001b[0m\u001b[1;33m[\u001b[0m\u001b[0mi\u001b[0m\u001b[1;33m,\u001b[0m\u001b[1;36m4\u001b[0m\u001b[1;33m]\u001b[0m\u001b[1;33m,\u001b[0m\u001b[1;34m'Min Speed'\u001b[0m\u001b[1;33m:\u001b[0m\u001b[0mformB\u001b[0m\u001b[1;33m.\u001b[0m\u001b[0miloc\u001b[0m\u001b[1;33m[\u001b[0m\u001b[0mi\u001b[0m\u001b[1;33m,\u001b[0m\u001b[1;36m5\u001b[0m\u001b[1;33m]\u001b[0m\u001b[1;33m,\u001b[0m\u001b[1;33m\u001b[0m\u001b[0m\n\u001b[1;32m----> 4\u001b[1;33m                       'Max Speed':formB.iloc[i,6], 'Duration':formB.iloc[i,7], 'Comments':formB.iloc[i,9]}\n\u001b[0m\u001b[0;32m      5\u001b[0m \u001b[1;33m\u001b[0m\u001b[0m\n\u001b[0;32m      6\u001b[0m     \u001b[0mfile_name_tex\u001b[0m \u001b[1;33m=\u001b[0m \u001b[0mstr\u001b[0m\u001b[1;33m(\u001b[0m\u001b[0mformB\u001b[0m\u001b[1;33m.\u001b[0m\u001b[0miloc\u001b[0m\u001b[1;33m[\u001b[0m\u001b[0mi\u001b[0m\u001b[1;33m,\u001b[0m\u001b[1;36m0\u001b[0m\u001b[1;33m]\u001b[0m\u001b[1;33m)\u001b[0m \u001b[1;33m+\u001b[0m \u001b[1;34m'.tex'\u001b[0m\u001b[1;33m\u001b[0m\u001b[0m\n",
      "\u001b[1;31mValueError\u001b[0m: unsupported format character '?' (0xa) at index 448"
     ]
    }
   ],
   "source": [
    "for i in range(len(formB)):\n",
    "    page = templateB%{'Period':formB.iloc[i,8],'Case No':formB.iloc[i,1], 'Date':formB.iloc[i,2], \n",
    "                      'Ferry No':formB.iloc[i,3], 'Avg Speed':formB.iloc[i,4],'Min Speed':formB.iloc[i,5], \n",
    "                      'Max Speed':formB.iloc[i,6], 'Duration':formB.iloc[i,7], 'Comments':formB.iloc[i,9]}\n",
    "    \n",
    "    file_name_tex = str(formB.iloc[i,0]) + '.tex'\n",
    "    file_name_log = str(formB.iloc[i,0]) + '.log'\n",
    "    file_name_aux = str(formB.iloc[i,0]) + '.aux'\n",
    "    #create a new file\n",
    "    file = open(file_name_tex, 'w')\n",
    "    #write to file\n",
    "    file.write(page)\n",
    "    file.close()\n",
    "    \n",
    "    #create the document\n",
    "    cmd = ['pdflatex', '-interaction', 'nonstopmode', file_name_tex]\n",
    "    proc = subprocess.Popen(cmd)\n",
    "    time.sleep(3)\n",
    "    os.unlink(file_name_log)\n",
    "    os.unlink(file_name_aux)"
   ]
  },
  {
   "cell_type": "code",
   "execution_count": null,
   "metadata": {
    "collapsed": true
   },
   "outputs": [],
   "source": []
  }
 ],
 "metadata": {
  "kernelspec": {
   "display_name": "Python 3",
   "language": "python",
   "name": "python3"
  },
  "language_info": {
   "codemirror_mode": {
    "name": "ipython",
    "version": 3
   },
   "file_extension": ".py",
   "mimetype": "text/x-python",
   "name": "python",
   "nbconvert_exporter": "python",
   "pygments_lexer": "ipython3",
   "version": "3.6.3"
  }
 },
 "nbformat": 4,
 "nbformat_minor": 2
}
